{
 "cells": [
  {
   "cell_type": "code",
   "execution_count": 1,
   "id": "86f3ddc2",
   "metadata": {},
   "outputs": [],
   "source": [
    "#Q10: Write a python program to scrape the salary data for Data Scientist designation.\n",
    "#You have to scrape Company name, Number of salaries, Average salary, Minsalary, Max Salary. \n",
    "#The above task will be, done as shown in the below steps:\n",
    "#1. First get the webpage https://www.ambitionbox.com/\n",
    "#2. Click on the salaries option as shown in the image\n",
    "#3. After reaching to the following webpage, In place of “Search Job Profile” enters “Data Scientist” and \n",
    "#then click on “Data Scientist”.\n",
    "#4. Scrape the data for the first 10 companies. Scrape the company name, total salary record, average \n",
    "#salary, minimum salary, maximum salary, experience required.\n",
    "#5. Store the data in a dataframe."
   ]
  },
  {
   "cell_type": "code",
   "execution_count": 1,
   "id": "be4e18a9",
   "metadata": {},
   "outputs": [
    {
     "name": "stdout",
     "output_type": "stream",
     "text": [
      "Requirement already satisfied: selenium in c:\\users\\91620\\anaconda3\\lib\\site-packages (4.4.0)\n",
      "Requirement already satisfied: trio-websocket~=0.9 in c:\\users\\91620\\anaconda3\\lib\\site-packages (from selenium) (0.9.2)\n",
      "Requirement already satisfied: trio~=0.17 in c:\\users\\91620\\anaconda3\\lib\\site-packages (from selenium) (0.21.0)\n",
      "Requirement already satisfied: urllib3[secure,socks]~=1.26 in c:\\users\\91620\\anaconda3\\lib\\site-packages (from selenium) (1.26.7)\n",
      "Requirement already satisfied: outcome in c:\\users\\91620\\anaconda3\\lib\\site-packages (from trio~=0.17->selenium) (1.2.0)\n",
      "Requirement already satisfied: sniffio in c:\\users\\91620\\anaconda3\\lib\\site-packages (from trio~=0.17->selenium) (1.2.0)\n",
      "Requirement already satisfied: cffi>=1.14 in c:\\users\\91620\\anaconda3\\lib\\site-packages (from trio~=0.17->selenium) (1.14.6)\n",
      "Requirement already satisfied: async-generator>=1.9 in c:\\users\\91620\\anaconda3\\lib\\site-packages (from trio~=0.17->selenium) (1.10)\n",
      "Requirement already satisfied: sortedcontainers in c:\\users\\91620\\anaconda3\\lib\\site-packages (from trio~=0.17->selenium) (2.4.0)\n",
      "Requirement already satisfied: idna in c:\\users\\91620\\anaconda3\\lib\\site-packages (from trio~=0.17->selenium) (3.2)\n",
      "Requirement already satisfied: attrs>=19.2.0 in c:\\users\\91620\\anaconda3\\lib\\site-packages (from trio~=0.17->selenium) (21.2.0)\n",
      "Requirement already satisfied: pycparser in c:\\users\\91620\\anaconda3\\lib\\site-packages (from cffi>=1.14->trio~=0.17->selenium) (2.20)\n",
      "Requirement already satisfied: wsproto>=0.14 in c:\\users\\91620\\anaconda3\\lib\\site-packages (from trio-websocket~=0.9->selenium) (1.1.0)\n",
      "Requirement already satisfied: PySocks!=1.5.7,<2.0,>=1.5.6 in c:\\users\\91620\\anaconda3\\lib\\site-packages (from urllib3[secure,socks]~=1.26->selenium) (1.7.1)\n",
      "Requirement already satisfied: pyOpenSSL>=0.14 in c:\\users\\91620\\anaconda3\\lib\\site-packages (from urllib3[secure,socks]~=1.26->selenium) (21.0.0)\n",
      "Requirement already satisfied: cryptography>=1.3.4 in c:\\users\\91620\\anaconda3\\lib\\site-packages (from urllib3[secure,socks]~=1.26->selenium) (3.4.8)\n",
      "Requirement already satisfied: certifi in c:\\users\\91620\\anaconda3\\lib\\site-packages (from urllib3[secure,socks]~=1.26->selenium) (2021.10.8)\n",
      "Requirement already satisfied: six>=1.5.2 in c:\\users\\91620\\anaconda3\\lib\\site-packages (from pyOpenSSL>=0.14->urllib3[secure,socks]~=1.26->selenium) (1.16.0)\n",
      "Requirement already satisfied: h11<1,>=0.9.0 in c:\\users\\91620\\anaconda3\\lib\\site-packages (from wsproto>=0.14->trio-websocket~=0.9->selenium) (0.13.0)\n"
     ]
    }
   ],
   "source": [
    "#First install the Selenium\n",
    "\n",
    "!pip install selenium"
   ]
  },
  {
   "cell_type": "code",
   "execution_count": 2,
   "id": "58772e6b",
   "metadata": {},
   "outputs": [],
   "source": [
    "# Let's now import all the required libraries.\n",
    "import selenium\n",
    "import pandas as pd\n",
    "from selenium import webdriver\n",
    "import warnings\n",
    "warnings.filterwarnings('ignore')\n",
    "import time\n",
    "from selenium.webdriver.common.keys import Keys\n",
    "from selenium.webdriver.common.by import By\n"
   ]
  },
  {
   "cell_type": "code",
   "execution_count": 3,
   "id": "7368786e",
   "metadata": {},
   "outputs": [],
   "source": [
    "driver = webdriver.Chrome(r\"C:\\Users\\91620\\Downloads\\chromedriver_win32\\chromedriver.exe\")"
   ]
  },
  {
   "cell_type": "code",
   "execution_count": 4,
   "id": "c7d5f9a2",
   "metadata": {},
   "outputs": [],
   "source": [
    "driver.maximize_window()"
   ]
  },
  {
   "cell_type": "code",
   "execution_count": 5,
   "id": "8daaa570",
   "metadata": {},
   "outputs": [],
   "source": [
    "driver.get('https://www.ambitionbox.com/')\n",
    "time.sleep(2)"
   ]
  },
  {
   "cell_type": "code",
   "execution_count": null,
   "id": "66ff8bf4",
   "metadata": {},
   "outputs": [],
   "source": [
    "click_on_salaries = driver.find_element(By.XPATH,\"/head/body/div[1]\")\n",
    "click_on_salaries.click()\n",
    "time.sleep(3)"
   ]
  },
  {
   "cell_type": "code",
   "execution_count": null,
   "id": "b3865187",
   "metadata": {},
   "outputs": [],
   "source": [
    "search_item = driver.find_element(By.XPATH,\"//input[@class='tt-input']\")\n",
    "search_item.send_keys(\"Data Scientist\")\n",
    "time.sleep(1)"
   ]
  },
  {
   "cell_type": "code",
   "execution_count": null,
   "id": "324708fd",
   "metadata": {},
   "outputs": [],
   "source": [
    "click_search_button = driver.find_element(By.XPATH,\"//p[@class='tt_text']\")\n",
    "click_search_button.click()\n",
    "time.sleep(3)"
   ]
  },
  {
   "cell_type": "code",
   "execution_count": 23,
   "id": "0a980529",
   "metadata": {},
   "outputs": [],
   "source": [
    "Company_name = []\n",
    "Total_Salary_Records = []\n",
    "Average_Salary = []\n",
    "Minimum_Salary = []\n",
    "Maximum_Salary = []\n",
    "\n",
    "company_name = driver.find_elements(By.XPATH,\"//div[@class='name']/a\")\n",
    "salary_records = driver.find_elements(By.XPATH,\"//div[@class='name']/span\")\n",
    "avg_salary = driver.find_elements(By.XPATH,\"//p[@class='averageCtc']\")\n",
    "min_salary = driver.find_elements(By.XPATH,\"//div[@class='salary-values']\")\n",
    "max_salary = driver.find_elements(By.XPATH,\"//div[@class='salary-values']\")\n",
    "\n",
    "for i in company_name : Company_name.append(i.text)\n",
    "for i in salary_records: Total_Salary_Records.append(i.text)\n",
    "for i in avg_salary : Average_Salary.append(i.text)\n",
    "for i in min_salary : Minimum_Salary.append(i.text.split(\"\\n\")[0])    \n",
    "for i in max_salary : Maximum_Salary.append(i.text.split(\"\\n\")[1])    "
   ]
  },
  {
   "cell_type": "code",
   "execution_count": 24,
   "id": "b452aea9",
   "metadata": {},
   "outputs": [
    {
     "name": "stdout",
     "output_type": "stream",
     "text": [
      "0 0 0 0 0\n"
     ]
    }
   ],
   "source": [
    "print(len(Company_name),len(Total_Salary_Records),len(Average_Salary),len(Minimum_Salary),len(Maximum_Salary))"
   ]
  },
  {
   "cell_type": "code",
   "execution_count": 25,
   "id": "6f47df6c",
   "metadata": {},
   "outputs": [
    {
     "data": {
      "text/html": [
       "<div>\n",
       "<style scoped>\n",
       "    .dataframe tbody tr th:only-of-type {\n",
       "        vertical-align: middle;\n",
       "    }\n",
       "\n",
       "    .dataframe tbody tr th {\n",
       "        vertical-align: top;\n",
       "    }\n",
       "\n",
       "    .dataframe thead th {\n",
       "        text-align: right;\n",
       "    }\n",
       "</style>\n",
       "<table border=\"1\" class=\"dataframe\">\n",
       "  <thead>\n",
       "    <tr style=\"text-align: right;\">\n",
       "      <th></th>\n",
       "      <th>Company_name</th>\n",
       "      <th>Total_Salary_Records</th>\n",
       "      <th>Average_Salary</th>\n",
       "      <th>Minimum_Salary</th>\n",
       "      <th>Maximum_Salary</th>\n",
       "    </tr>\n",
       "  </thead>\n",
       "  <tbody>\n",
       "  </tbody>\n",
       "</table>\n",
       "</div>"
      ],
      "text/plain": [
       "Empty DataFrame\n",
       "Columns: [Company_name, Total_Salary_Records, Average_Salary, Minimum_Salary, Maximum_Salary]\n",
       "Index: []"
      ]
     },
     "execution_count": 25,
     "metadata": {},
     "output_type": "execute_result"
    }
   ],
   "source": [
    "Salary = pd.DataFrame({'Company_name':Company_name,'Total_Salary_Records':Total_Salary_Records,'Average_Salary':Average_Salary,'Minimum_Salary':Minimum_Salary,'Maximum_Salary':Maximum_Salary})\n",
    "Salary"
   ]
  },
  {
   "cell_type": "code",
   "execution_count": null,
   "id": "437579f6",
   "metadata": {},
   "outputs": [],
   "source": []
  }
 ],
 "metadata": {
  "kernelspec": {
   "display_name": "Python 3 (ipykernel)",
   "language": "python",
   "name": "python3"
  },
  "language_info": {
   "codemirror_mode": {
    "name": "ipython",
    "version": 3
   },
   "file_extension": ".py",
   "mimetype": "text/x-python",
   "name": "python",
   "nbconvert_exporter": "python",
   "pygments_lexer": "ipython3",
   "version": "3.9.7"
  }
 },
 "nbformat": 4,
 "nbformat_minor": 5
}
