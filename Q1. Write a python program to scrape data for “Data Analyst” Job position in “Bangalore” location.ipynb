{
 "cells": [
  {
   "cell_type": "code",
   "execution_count": 1,
   "id": "c21ca4e6",
   "metadata": {},
   "outputs": [],
   "source": [
    "#Q1: Write a python program to scrape data for “Data Analyst” Job position in “Bangalore” location. You\n",
    "#have to scrape the job-title, job-location, company_name, experience_required. You have to scrape first 10\n",
    "#jobs data.\n",
    "#This task will be done in following steps:\n",
    "#1. First get the webpage https://www.naukri.com/\n",
    "#2. Enter “Data Analyst” in “Skill, Designations, Companies” field and enter “Bangalore” in “enter the\n",
    "#location” field.\n",
    "#3. Then click the search button.\n",
    "#4. Then scrape the data for the first 10 jobs results you get.\n",
    "#5. Finally create a dataframe of the scraped data.\n",
    "#Note: All of the above steps have to be done in code. No step is to be done manually.\n"
   ]
  },
  {
   "cell_type": "code",
   "execution_count": 1,
   "id": "06fdda1c",
   "metadata": {},
   "outputs": [
    {
     "name": "stdout",
     "output_type": "stream",
     "text": [
      "Requirement already satisfied: selenium in c:\\users\\91620\\anaconda3\\lib\\site-packages (4.4.0)\n",
      "Requirement already satisfied: trio~=0.17 in c:\\users\\91620\\anaconda3\\lib\\site-packages (from selenium) (0.21.0)\n",
      "Requirement already satisfied: trio-websocket~=0.9 in c:\\users\\91620\\anaconda3\\lib\\site-packages (from selenium) (0.9.2)\n",
      "Requirement already satisfied: urllib3[secure,socks]~=1.26 in c:\\users\\91620\\anaconda3\\lib\\site-packages (from selenium) (1.26.7)\n",
      "Requirement already satisfied: attrs>=19.2.0 in c:\\users\\91620\\anaconda3\\lib\\site-packages (from trio~=0.17->selenium) (21.2.0)\n",
      "Requirement already satisfied: outcome in c:\\users\\91620\\anaconda3\\lib\\site-packages (from trio~=0.17->selenium) (1.2.0)\n",
      "Requirement already satisfied: idna in c:\\users\\91620\\anaconda3\\lib\\site-packages (from trio~=0.17->selenium) (3.2)\n",
      "Requirement already satisfied: async-generator>=1.9 in c:\\users\\91620\\anaconda3\\lib\\site-packages (from trio~=0.17->selenium) (1.10)\n",
      "Requirement already satisfied: sortedcontainers in c:\\users\\91620\\anaconda3\\lib\\site-packages (from trio~=0.17->selenium) (2.4.0)\n",
      "Requirement already satisfied: cffi>=1.14 in c:\\users\\91620\\anaconda3\\lib\\site-packages (from trio~=0.17->selenium) (1.14.6)\n",
      "Requirement already satisfied: sniffio in c:\\users\\91620\\anaconda3\\lib\\site-packages (from trio~=0.17->selenium) (1.2.0)\n",
      "Requirement already satisfied: pycparser in c:\\users\\91620\\anaconda3\\lib\\site-packages (from cffi>=1.14->trio~=0.17->selenium) (2.20)\n",
      "Requirement already satisfied: wsproto>=0.14 in c:\\users\\91620\\anaconda3\\lib\\site-packages (from trio-websocket~=0.9->selenium) (1.1.0)\n",
      "Requirement already satisfied: PySocks!=1.5.7,<2.0,>=1.5.6 in c:\\users\\91620\\anaconda3\\lib\\site-packages (from urllib3[secure,socks]~=1.26->selenium) (1.7.1)\n",
      "Requirement already satisfied: pyOpenSSL>=0.14 in c:\\users\\91620\\anaconda3\\lib\\site-packages (from urllib3[secure,socks]~=1.26->selenium) (21.0.0)\n",
      "Requirement already satisfied: cryptography>=1.3.4 in c:\\users\\91620\\anaconda3\\lib\\site-packages (from urllib3[secure,socks]~=1.26->selenium) (3.4.8)\n",
      "Requirement already satisfied: certifi in c:\\users\\91620\\anaconda3\\lib\\site-packages (from urllib3[secure,socks]~=1.26->selenium) (2021.10.8)\n",
      "Requirement already satisfied: six>=1.5.2 in c:\\users\\91620\\anaconda3\\lib\\site-packages (from pyOpenSSL>=0.14->urllib3[secure,socks]~=1.26->selenium) (1.16.0)\n",
      "Requirement already satisfied: h11<1,>=0.9.0 in c:\\users\\91620\\anaconda3\\lib\\site-packages (from wsproto>=0.14->trio-websocket~=0.9->selenium) (0.13.0)\n"
     ]
    }
   ],
   "source": [
    "!pip install selenium"
   ]
  },
  {
   "cell_type": "code",
   "execution_count": 2,
   "id": "17adfb45",
   "metadata": {},
   "outputs": [],
   "source": [
    "# Let's now import all the required libraries.\n",
    "import selenium\n",
    "import pandas as pd\n",
    "from selenium import webdriver\n",
    "import warnings\n",
    "warnings.filterwarnings('ignore')\n",
    "import time\n",
    "from selenium.webdriver.common.keys import Keys\n",
    "from selenium.webdriver.common.by import By"
   ]
  },
  {
   "cell_type": "code",
   "execution_count": 3,
   "id": "9b30774e",
   "metadata": {},
   "outputs": [],
   "source": [
    "#connect to the web driver\n",
    "driver = webdriver.Chrome(r\"C:\\Users\\91620\\Downloads\\chromedriver_win32\\chromedriver.exe\")"
   ]
  },
  {
   "cell_type": "code",
   "execution_count": 4,
   "id": "a3375896",
   "metadata": {},
   "outputs": [],
   "source": [
    "url = \"https://www.naukri.com\"\n",
    "driver.get(url)"
   ]
  },
  {
   "cell_type": "code",
   "execution_count": 5,
   "id": "a966b6c9",
   "metadata": {},
   "outputs": [
    {
     "data": {
      "text/plain": [
       "<selenium.webdriver.remote.webelement.WebElement (session=\"830545bf5124852b00c20e73a59e836a\", element=\"588a11a3-5e56-4b80-975f-b314837e2df5\")>"
      ]
     },
     "execution_count": 5,
     "metadata": {},
     "output_type": "execute_result"
    }
   ],
   "source": [
    "#Finding element for job search bar\n",
    "\n",
    "#search_job = driver.find_element(\"suggestor-input\")\n",
    "\n",
    "\n",
    "search_job = driver.find_element(By.CLASS_NAME, \"suggestor-input\")\n",
    "search_job"
   ]
  },
  {
   "cell_type": "code",
   "execution_count": 6,
   "id": "9a301779",
   "metadata": {},
   "outputs": [],
   "source": [
    "search_job.send_keys('Data Analyst')"
   ]
  },
  {
   "cell_type": "code",
   "execution_count": 11,
   "id": "77e1b91b",
   "metadata": {},
   "outputs": [],
   "source": [
    "search_field_loc=driver.find_element(By.XPATH,'/html/body/div/div[2]/div[3]/div/div/div[5]/div/div/div/input')\n",
    "search_field_loc.send_keys('banglore')"
   ]
  },
  {
   "cell_type": "code",
   "execution_count": 12,
   "id": "88cee2ca",
   "metadata": {},
   "outputs": [],
   "source": [
    "#Clicking on search bar button\n",
    "\n",
    "search_button = driver.find_element(By.XPATH,'/html/body/div/div[2]/div[3]/div/div/div[6]')\n",
    "search_button.click()"
   ]
  },
  {
   "cell_type": "code",
   "execution_count": 14,
   "id": "7e432ce7",
   "metadata": {},
   "outputs": [
    {
     "data": {
      "text/plain": [
       "[<selenium.webdriver.remote.webelement.WebElement (session=\"830545bf5124852b00c20e73a59e836a\", element=\"c88ebc58-ada2-448e-b99e-ebc868e46f25\")>,\n",
       " <selenium.webdriver.remote.webelement.WebElement (session=\"830545bf5124852b00c20e73a59e836a\", element=\"400c16e8-cbd3-4a6a-a0c8-759608edf123\")>,\n",
       " <selenium.webdriver.remote.webelement.WebElement (session=\"830545bf5124852b00c20e73a59e836a\", element=\"ce767386-749e-4509-a309-16093f5d0abe\")>,\n",
       " <selenium.webdriver.remote.webelement.WebElement (session=\"830545bf5124852b00c20e73a59e836a\", element=\"63834e8b-335c-4d49-8944-5fc6eb6007df\")>,\n",
       " <selenium.webdriver.remote.webelement.WebElement (session=\"830545bf5124852b00c20e73a59e836a\", element=\"7ed7fb52-9b60-470a-a405-c60c970debcb\")>,\n",
       " <selenium.webdriver.remote.webelement.WebElement (session=\"830545bf5124852b00c20e73a59e836a\", element=\"2ec20ede-bdaf-4b5a-aacb-73aabd8a88d2\")>,\n",
       " <selenium.webdriver.remote.webelement.WebElement (session=\"830545bf5124852b00c20e73a59e836a\", element=\"3e85e181-8235-4729-8ff9-dc640baa1d68\")>,\n",
       " <selenium.webdriver.remote.webelement.WebElement (session=\"830545bf5124852b00c20e73a59e836a\", element=\"7dff8eee-b92c-42a3-804e-ed91d35f0ebf\")>,\n",
       " <selenium.webdriver.remote.webelement.WebElement (session=\"830545bf5124852b00c20e73a59e836a\", element=\"0a78b76a-217a-4ea0-9b18-1b5bdbea833d\")>,\n",
       " <selenium.webdriver.remote.webelement.WebElement (session=\"830545bf5124852b00c20e73a59e836a\", element=\"bd7f2767-6aa9-4a3d-9f33-e0ac442009c1\")>]"
      ]
     },
     "execution_count": 14,
     "metadata": {},
     "output_type": "execute_result"
    }
   ],
   "source": [
    "#lets extract job title \n",
    "\n",
    "title_tag = driver.find_elements(By.XPATH,\"//a[@class = 'title fw500 ellipsis']\")\n",
    "\n",
    "title_tag[0:10]"
   ]
  },
  {
   "cell_type": "code",
   "execution_count": 15,
   "id": "a5db5fe2",
   "metadata": {},
   "outputs": [],
   "source": [
    "#so now we have all the tags in wich there are the job title.\n",
    "\n",
    "#now we extract job title from tags throught looping method"
   ]
  },
  {
   "cell_type": "code",
   "execution_count": 16,
   "id": "944352e4",
   "metadata": {},
   "outputs": [
    {
     "data": {
      "text/plain": [
       "['Senior Data Analyst',\n",
       " 'Senior Data Analyst',\n",
       " 'Sr. Data Analyst',\n",
       " 'Master Data Management Business Analyst',\n",
       " 'Intern Data Analyst',\n",
       " 'Data Analyst - Python/Artificial Intelligence',\n",
       " 'Lead Data Analyst',\n",
       " 'Data Analyst',\n",
       " 'Data Analyst',\n",
       " 'Forecasting Analyst/ Data Scientist (US Client)']"
      ]
     },
     "execution_count": 16,
     "metadata": {},
     "output_type": "execute_result"
    }
   ],
   "source": [
    "job_title = []\n",
    "\n",
    "for i in title_tag[0:10]:\n",
    "    job_title.append(i.text)\n",
    "job_title    "
   ]
  },
  {
   "cell_type": "code",
   "execution_count": 18,
   "id": "5a91547c",
   "metadata": {},
   "outputs": [
    {
     "data": {
      "text/plain": [
       "[<selenium.webdriver.remote.webelement.WebElement (session=\"830545bf5124852b00c20e73a59e836a\", element=\"be8c9293-8fe6-42a1-852e-eccdb9d9a6a8\")>,\n",
       " <selenium.webdriver.remote.webelement.WebElement (session=\"830545bf5124852b00c20e73a59e836a\", element=\"2c9cb386-003a-411d-8693-f08e11a3f8de\")>,\n",
       " <selenium.webdriver.remote.webelement.WebElement (session=\"830545bf5124852b00c20e73a59e836a\", element=\"3e4e673b-936d-4cc8-8800-f1793d40a655\")>,\n",
       " <selenium.webdriver.remote.webelement.WebElement (session=\"830545bf5124852b00c20e73a59e836a\", element=\"e36dcdea-7e48-454a-a85a-122f6c18d9dc\")>,\n",
       " <selenium.webdriver.remote.webelement.WebElement (session=\"830545bf5124852b00c20e73a59e836a\", element=\"4832f60e-f66a-4d6d-aaf8-ce778d315555\")>,\n",
       " <selenium.webdriver.remote.webelement.WebElement (session=\"830545bf5124852b00c20e73a59e836a\", element=\"d4419aae-920b-416a-b6d8-a09c1a6fd3e4\")>,\n",
       " <selenium.webdriver.remote.webelement.WebElement (session=\"830545bf5124852b00c20e73a59e836a\", element=\"4df32b64-ca4b-4a17-9e89-b610218ba9ee\")>,\n",
       " <selenium.webdriver.remote.webelement.WebElement (session=\"830545bf5124852b00c20e73a59e836a\", element=\"3041e87d-bfb5-4a23-8054-ea187b399373\")>,\n",
       " <selenium.webdriver.remote.webelement.WebElement (session=\"830545bf5124852b00c20e73a59e836a\", element=\"5bc24b6b-f8cb-4706-bee6-d6d6e1516e4a\")>,\n",
       " <selenium.webdriver.remote.webelement.WebElement (session=\"830545bf5124852b00c20e73a59e836a\", element=\"6b788d51-acb1-4a8a-bc41-d02cd5f28c0d\")>]"
      ]
     },
     "execution_count": 18,
     "metadata": {},
     "output_type": "execute_result"
    }
   ],
   "source": [
    "#lets find the company name\n",
    "\n",
    "company_tag = driver.find_elements(By.XPATH,\"//a[@class = 'subTitle ellipsis fleft']\")\n",
    "company_tag[0:10]"
   ]
  },
  {
   "cell_type": "code",
   "execution_count": 19,
   "id": "e6098afe",
   "metadata": {},
   "outputs": [
    {
     "data": {
      "text/plain": [
       "['KrazyBee',\n",
       " 'Qualitest India Private Limited',\n",
       " 'Global Indian School Education Services',\n",
       " 'Accenture',\n",
       " 'FullStackTechies',\n",
       " 'iMindYourBusiness',\n",
       " 'McAfee',\n",
       " 'milestone internet marketing pvt ltd',\n",
       " 'Bayer',\n",
       " 'Concentrix']"
      ]
     },
     "execution_count": 19,
     "metadata": {},
     "output_type": "execute_result"
    }
   ],
   "source": [
    "#Now we have extract the text from the tag\n",
    "company_name = []\n",
    "\n",
    "for i in company_tag[0:10]:\n",
    "    company_name.append(i.text)\n",
    "    \n",
    "company_name    "
   ]
  },
  {
   "cell_type": "code",
   "execution_count": 20,
   "id": "221dc3ad",
   "metadata": {},
   "outputs": [
    {
     "data": {
      "text/plain": [
       "[<selenium.webdriver.remote.webelement.WebElement (session=\"830545bf5124852b00c20e73a59e836a\", element=\"951e4692-5f7e-4dc2-820b-dd8fcb68a989\")>,\n",
       " <selenium.webdriver.remote.webelement.WebElement (session=\"830545bf5124852b00c20e73a59e836a\", element=\"cf061e41-7d06-428b-b0f1-2075a0bd0c88\")>,\n",
       " <selenium.webdriver.remote.webelement.WebElement (session=\"830545bf5124852b00c20e73a59e836a\", element=\"5ee8067a-3d29-47ba-ba42-a436081e072f\")>,\n",
       " <selenium.webdriver.remote.webelement.WebElement (session=\"830545bf5124852b00c20e73a59e836a\", element=\"a12dd99f-4cce-4843-b7fd-09d82e718830\")>,\n",
       " <selenium.webdriver.remote.webelement.WebElement (session=\"830545bf5124852b00c20e73a59e836a\", element=\"afd68559-c344-4824-92ae-75cb5329665b\")>,\n",
       " <selenium.webdriver.remote.webelement.WebElement (session=\"830545bf5124852b00c20e73a59e836a\", element=\"d38a4605-8a3d-4648-aed8-e7d72bcfcde6\")>,\n",
       " <selenium.webdriver.remote.webelement.WebElement (session=\"830545bf5124852b00c20e73a59e836a\", element=\"5738581c-db6b-4d89-9670-1d937dd7ff6a\")>,\n",
       " <selenium.webdriver.remote.webelement.WebElement (session=\"830545bf5124852b00c20e73a59e836a\", element=\"4943f33e-624c-41dc-80f5-34447cf383f1\")>,\n",
       " <selenium.webdriver.remote.webelement.WebElement (session=\"830545bf5124852b00c20e73a59e836a\", element=\"b92bb9ab-a02c-47cc-9839-24f0bfd900b1\")>,\n",
       " <selenium.webdriver.remote.webelement.WebElement (session=\"830545bf5124852b00c20e73a59e836a\", element=\"5ca6a230-2677-4fda-baa2-83d3f0967b5e\")>,\n",
       " <selenium.webdriver.remote.webelement.WebElement (session=\"830545bf5124852b00c20e73a59e836a\", element=\"3af6a7e7-a32f-44f1-b85e-0e525dab7729\")>,\n",
       " <selenium.webdriver.remote.webelement.WebElement (session=\"830545bf5124852b00c20e73a59e836a\", element=\"1983f425-adc9-4415-8909-86ca5f3a57ed\")>,\n",
       " <selenium.webdriver.remote.webelement.WebElement (session=\"830545bf5124852b00c20e73a59e836a\", element=\"a8b2a6cc-bab7-4156-8149-299bcaaccc50\")>,\n",
       " <selenium.webdriver.remote.webelement.WebElement (session=\"830545bf5124852b00c20e73a59e836a\", element=\"158cce08-ce98-4535-9f43-83f2f421701f\")>,\n",
       " <selenium.webdriver.remote.webelement.WebElement (session=\"830545bf5124852b00c20e73a59e836a\", element=\"81e95a82-8609-41ef-8c35-4849ee6bc0f9\")>,\n",
       " <selenium.webdriver.remote.webelement.WebElement (session=\"830545bf5124852b00c20e73a59e836a\", element=\"5867f140-fa0b-4f3e-9687-e3e225179254\")>,\n",
       " <selenium.webdriver.remote.webelement.WebElement (session=\"830545bf5124852b00c20e73a59e836a\", element=\"3fe7a074-0ae8-440a-b0bf-8ec5a024e803\")>,\n",
       " <selenium.webdriver.remote.webelement.WebElement (session=\"830545bf5124852b00c20e73a59e836a\", element=\"072ec1a4-6a61-42a9-9c9b-d2efa34ba60d\")>,\n",
       " <selenium.webdriver.remote.webelement.WebElement (session=\"830545bf5124852b00c20e73a59e836a\", element=\"1307a4eb-a83d-4561-82b9-42b7969d31c2\")>,\n",
       " <selenium.webdriver.remote.webelement.WebElement (session=\"830545bf5124852b00c20e73a59e836a\", element=\"b503f5b1-ae23-4e6d-bec2-c03047ab8fdf\")>]"
      ]
     },
     "execution_count": 20,
     "metadata": {},
     "output_type": "execute_result"
    }
   ],
   "source": [
    "#lets extract years for the experience_tag\n",
    "\n",
    "experience_tag = driver.find_elements(By.XPATH,\"//li[@class='fleft grey-text br2 placeHolderLi experience']/span\")\n",
    "experience_tag"
   ]
  },
  {
   "cell_type": "code",
   "execution_count": 21,
   "id": "b15f21b7",
   "metadata": {},
   "outputs": [
    {
     "data": {
      "text/plain": [
       "['3-6 Yrs',\n",
       " '5-8 Yrs',\n",
       " '6-11 Yrs',\n",
       " '6-8 Yrs',\n",
       " '0-1 Yrs',\n",
       " '0-2 Yrs',\n",
       " '5-9 Yrs',\n",
       " '2-7 Yrs',\n",
       " '2-5 Yrs',\n",
       " '3-8 Yrs']"
      ]
     },
     "execution_count": 21,
     "metadata": {},
     "output_type": "execute_result"
    }
   ],
   "source": [
    "#let extract text from tags\n",
    "experience_required = []\n",
    "\n",
    "for i in experience_tag[0:10]:\n",
    "    experience_required.append(i.text[0:10])\n",
    "experience_required    \n",
    "    "
   ]
  },
  {
   "cell_type": "code",
   "execution_count": 22,
   "id": "14d063a2",
   "metadata": {},
   "outputs": [
    {
     "data": {
      "text/plain": [
       "[<selenium.webdriver.remote.webelement.WebElement (session=\"830545bf5124852b00c20e73a59e836a\", element=\"fd2e587f-cd2e-488a-949d-a0ed61482a6e\")>,\n",
       " <selenium.webdriver.remote.webelement.WebElement (session=\"830545bf5124852b00c20e73a59e836a\", element=\"8c4d4030-f136-4cb2-acc1-b2cec5303eff\")>,\n",
       " <selenium.webdriver.remote.webelement.WebElement (session=\"830545bf5124852b00c20e73a59e836a\", element=\"509ec9ff-7036-476d-908d-73a20ff5f84e\")>,\n",
       " <selenium.webdriver.remote.webelement.WebElement (session=\"830545bf5124852b00c20e73a59e836a\", element=\"8239bca4-5e7e-4284-ac8c-469be417a85d\")>,\n",
       " <selenium.webdriver.remote.webelement.WebElement (session=\"830545bf5124852b00c20e73a59e836a\", element=\"0a70bab2-4c23-4132-8b6b-c5b54a639c93\")>,\n",
       " <selenium.webdriver.remote.webelement.WebElement (session=\"830545bf5124852b00c20e73a59e836a\", element=\"e4ace5b6-5d24-4fb6-a6bf-57147313f841\")>,\n",
       " <selenium.webdriver.remote.webelement.WebElement (session=\"830545bf5124852b00c20e73a59e836a\", element=\"c4f0b681-3520-44ad-9442-755379436172\")>,\n",
       " <selenium.webdriver.remote.webelement.WebElement (session=\"830545bf5124852b00c20e73a59e836a\", element=\"a9a62180-8d1f-453c-ab73-2bb2f0f9ebab\")>,\n",
       " <selenium.webdriver.remote.webelement.WebElement (session=\"830545bf5124852b00c20e73a59e836a\", element=\"af67f80a-6253-4c4a-a3bd-213b72dc0421\")>,\n",
       " <selenium.webdriver.remote.webelement.WebElement (session=\"830545bf5124852b00c20e73a59e836a\", element=\"e4bb482d-405c-4b60-81a0-96c2d434a021\")>]"
      ]
     },
     "execution_count": 22,
     "metadata": {},
     "output_type": "execute_result"
    }
   ],
   "source": [
    "#lets extract the job location tag\n",
    "\n",
    "location_tag = driver.find_elements(By.XPATH,\"//li[@class='fleft grey-text br2 placeHolderLi location']\")\n",
    "\n",
    "location_tag[0:10]\n"
   ]
  },
  {
   "cell_type": "code",
   "execution_count": 23,
   "id": "897f23c6",
   "metadata": {},
   "outputs": [
    {
     "data": {
      "text/plain": [
       "['Bangalore/Bengaluru(Old Madras Road)',\n",
       " 'Bangalore/Bengaluru',\n",
       " 'Pune, Bangalore/Bengaluru',\n",
       " 'Bangalore/Bengaluru',\n",
       " 'Bangalore/Bengaluru',\n",
       " 'Mumbai, Hyderabad/Secunderabad, Pune, Chennai, Ahmedabad, Delhi / NCR, Bangalore/Bengaluru',\n",
       " 'Bangalore/Bengaluru',\n",
       " 'Ahmedabad, Bangalore/Bengaluru',\n",
       " 'Bangalore/Bengaluru',\n",
       " 'Gurgaon/Gurugram, Bangalore/Bengaluru\\n(WFH during Covid)']"
      ]
     },
     "execution_count": 23,
     "metadata": {},
     "output_type": "execute_result"
    }
   ],
   "source": [
    "job_location = []\n",
    "\n",
    "for i in location_tag[0:10]:\n",
    "    job_location.append(i.text)    \n",
    "    \n",
    "job_location   "
   ]
  },
  {
   "cell_type": "code",
   "execution_count": 24,
   "id": "af73a62d",
   "metadata": {},
   "outputs": [
    {
     "name": "stdout",
     "output_type": "stream",
     "text": [
      "10 10 10 10\n"
     ]
    }
   ],
   "source": [
    "print(len(job_title),len(company_name),len(experience_required),len(job_location))"
   ]
  },
  {
   "cell_type": "code",
   "execution_count": 25,
   "id": "8c96f118",
   "metadata": {},
   "outputs": [
    {
     "data": {
      "text/html": [
       "<div>\n",
       "<style scoped>\n",
       "    .dataframe tbody tr th:only-of-type {\n",
       "        vertical-align: middle;\n",
       "    }\n",
       "\n",
       "    .dataframe tbody tr th {\n",
       "        vertical-align: top;\n",
       "    }\n",
       "\n",
       "    .dataframe thead th {\n",
       "        text-align: right;\n",
       "    }\n",
       "</style>\n",
       "<table border=\"1\" class=\"dataframe\">\n",
       "  <thead>\n",
       "    <tr style=\"text-align: right;\">\n",
       "      <th></th>\n",
       "      <th>job_title</th>\n",
       "      <th>company_name</th>\n",
       "      <th>experience_required</th>\n",
       "      <th>job_location</th>\n",
       "    </tr>\n",
       "  </thead>\n",
       "  <tbody>\n",
       "    <tr>\n",
       "      <th>0</th>\n",
       "      <td>Senior Data Analyst</td>\n",
       "      <td>KrazyBee</td>\n",
       "      <td>3-6 Yrs</td>\n",
       "      <td>Bangalore/Bengaluru(Old Madras Road)</td>\n",
       "    </tr>\n",
       "    <tr>\n",
       "      <th>1</th>\n",
       "      <td>Senior Data Analyst</td>\n",
       "      <td>Qualitest India Private Limited</td>\n",
       "      <td>5-8 Yrs</td>\n",
       "      <td>Bangalore/Bengaluru</td>\n",
       "    </tr>\n",
       "    <tr>\n",
       "      <th>2</th>\n",
       "      <td>Sr. Data Analyst</td>\n",
       "      <td>Global Indian School Education Services</td>\n",
       "      <td>6-11 Yrs</td>\n",
       "      <td>Pune, Bangalore/Bengaluru</td>\n",
       "    </tr>\n",
       "    <tr>\n",
       "      <th>3</th>\n",
       "      <td>Master Data Management Business Analyst</td>\n",
       "      <td>Accenture</td>\n",
       "      <td>6-8 Yrs</td>\n",
       "      <td>Bangalore/Bengaluru</td>\n",
       "    </tr>\n",
       "    <tr>\n",
       "      <th>4</th>\n",
       "      <td>Intern Data Analyst</td>\n",
       "      <td>FullStackTechies</td>\n",
       "      <td>0-1 Yrs</td>\n",
       "      <td>Bangalore/Bengaluru</td>\n",
       "    </tr>\n",
       "    <tr>\n",
       "      <th>5</th>\n",
       "      <td>Data Analyst - Python/Artificial Intelligence</td>\n",
       "      <td>iMindYourBusiness</td>\n",
       "      <td>0-2 Yrs</td>\n",
       "      <td>Mumbai, Hyderabad/Secunderabad, Pune, Chennai,...</td>\n",
       "    </tr>\n",
       "    <tr>\n",
       "      <th>6</th>\n",
       "      <td>Lead Data Analyst</td>\n",
       "      <td>McAfee</td>\n",
       "      <td>5-9 Yrs</td>\n",
       "      <td>Bangalore/Bengaluru</td>\n",
       "    </tr>\n",
       "    <tr>\n",
       "      <th>7</th>\n",
       "      <td>Data Analyst</td>\n",
       "      <td>milestone internet marketing pvt ltd</td>\n",
       "      <td>2-7 Yrs</td>\n",
       "      <td>Ahmedabad, Bangalore/Bengaluru</td>\n",
       "    </tr>\n",
       "    <tr>\n",
       "      <th>8</th>\n",
       "      <td>Data Analyst</td>\n",
       "      <td>Bayer</td>\n",
       "      <td>2-5 Yrs</td>\n",
       "      <td>Bangalore/Bengaluru</td>\n",
       "    </tr>\n",
       "    <tr>\n",
       "      <th>9</th>\n",
       "      <td>Forecasting Analyst/ Data Scientist (US Client)</td>\n",
       "      <td>Concentrix</td>\n",
       "      <td>3-8 Yrs</td>\n",
       "      <td>Gurgaon/Gurugram, Bangalore/Bengaluru\\n(WFH du...</td>\n",
       "    </tr>\n",
       "  </tbody>\n",
       "</table>\n",
       "</div>"
      ],
      "text/plain": [
       "                                         job_title  \\\n",
       "0                              Senior Data Analyst   \n",
       "1                              Senior Data Analyst   \n",
       "2                                 Sr. Data Analyst   \n",
       "3          Master Data Management Business Analyst   \n",
       "4                              Intern Data Analyst   \n",
       "5    Data Analyst - Python/Artificial Intelligence   \n",
       "6                                Lead Data Analyst   \n",
       "7                                     Data Analyst   \n",
       "8                                     Data Analyst   \n",
       "9  Forecasting Analyst/ Data Scientist (US Client)   \n",
       "\n",
       "                              company_name experience_required  \\\n",
       "0                                 KrazyBee             3-6 Yrs   \n",
       "1          Qualitest India Private Limited             5-8 Yrs   \n",
       "2  Global Indian School Education Services            6-11 Yrs   \n",
       "3                                Accenture             6-8 Yrs   \n",
       "4                         FullStackTechies             0-1 Yrs   \n",
       "5                        iMindYourBusiness             0-2 Yrs   \n",
       "6                                   McAfee             5-9 Yrs   \n",
       "7     milestone internet marketing pvt ltd             2-7 Yrs   \n",
       "8                                    Bayer             2-5 Yrs   \n",
       "9                               Concentrix             3-8 Yrs   \n",
       "\n",
       "                                        job_location  \n",
       "0               Bangalore/Bengaluru(Old Madras Road)  \n",
       "1                                Bangalore/Bengaluru  \n",
       "2                          Pune, Bangalore/Bengaluru  \n",
       "3                                Bangalore/Bengaluru  \n",
       "4                                Bangalore/Bengaluru  \n",
       "5  Mumbai, Hyderabad/Secunderabad, Pune, Chennai,...  \n",
       "6                                Bangalore/Bengaluru  \n",
       "7                     Ahmedabad, Bangalore/Bengaluru  \n",
       "8                                Bangalore/Bengaluru  \n",
       "9  Gurgaon/Gurugram, Bangalore/Bengaluru\\n(WFH du...  "
      ]
     },
     "execution_count": 25,
     "metadata": {},
     "output_type": "execute_result"
    }
   ],
   "source": [
    "df = pd.DataFrame({'job_title':job_title,'company_name':company_name,'experience_required':experience_required,'job_location':job_location})\n",
    "df"
   ]
  },
  {
   "cell_type": "code",
   "execution_count": null,
   "id": "628ff437",
   "metadata": {},
   "outputs": [],
   "source": []
  }
 ],
 "metadata": {
  "kernelspec": {
   "display_name": "Python 3 (ipykernel)",
   "language": "python",
   "name": "python3"
  },
  "language_info": {
   "codemirror_mode": {
    "name": "ipython",
    "version": 3
   },
   "file_extension": ".py",
   "mimetype": "text/x-python",
   "name": "python",
   "nbconvert_exporter": "python",
   "pygments_lexer": "ipython3",
   "version": "3.9.7"
  }
 },
 "nbformat": 4,
 "nbformat_minor": 5
}
