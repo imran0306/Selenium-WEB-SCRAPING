{
 "cells": [
  {
   "cell_type": "code",
   "execution_count": 1,
   "id": "b87b86aa",
   "metadata": {},
   "outputs": [],
   "source": [
    "#Q3: In this question you have to scrape data using the filters available on the webpage as shown below:\n",
    "#    You have to use the location and salary filter.\n",
    "#    You have to scrape data for “Data Scientist” designation for first 10 job results.\n",
    "#    You have to scrape the job-title, job-location, company name, experience required. \n",
    "#    The location filter to be used is “Delhi/NCR”. The salary filter to be used is “3-6” lakhs"
   ]
  },
  {
   "cell_type": "code",
   "execution_count": 12,
   "id": "bf94895d",
   "metadata": {},
   "outputs": [
    {
     "name": "stdout",
     "output_type": "stream",
     "text": [
      "Requirement already satisfied: selenium in c:\\users\\91620\\anaconda3\\lib\\site-packages (4.4.0)\n",
      "Requirement already satisfied: trio-websocket~=0.9 in c:\\users\\91620\\anaconda3\\lib\\site-packages (from selenium) (0.9.2)\n",
      "Requirement already satisfied: urllib3[secure,socks]~=1.26 in c:\\users\\91620\\anaconda3\\lib\\site-packages (from selenium) (1.26.7)\n",
      "Requirement already satisfied: trio~=0.17 in c:\\users\\91620\\anaconda3\\lib\\site-packages (from selenium) (0.21.0)\n",
      "Requirement already satisfied: cffi>=1.14 in c:\\users\\91620\\anaconda3\\lib\\site-packages (from trio~=0.17->selenium) (1.14.6)\n",
      "Requirement already satisfied: attrs>=19.2.0 in c:\\users\\91620\\anaconda3\\lib\\site-packages (from trio~=0.17->selenium) (21.2.0)\n",
      "Requirement already satisfied: sortedcontainers in c:\\users\\91620\\anaconda3\\lib\\site-packages (from trio~=0.17->selenium) (2.4.0)\n",
      "Requirement already satisfied: sniffio in c:\\users\\91620\\anaconda3\\lib\\site-packages (from trio~=0.17->selenium) (1.2.0)\n",
      "Requirement already satisfied: idna in c:\\users\\91620\\anaconda3\\lib\\site-packages (from trio~=0.17->selenium) (3.2)\n",
      "Requirement already satisfied: async-generator>=1.9 in c:\\users\\91620\\anaconda3\\lib\\site-packages (from trio~=0.17->selenium) (1.10)\n",
      "Requirement already satisfied: outcome in c:\\users\\91620\\anaconda3\\lib\\site-packages (from trio~=0.17->selenium) (1.2.0)\n",
      "Requirement already satisfied: pycparser in c:\\users\\91620\\anaconda3\\lib\\site-packages (from cffi>=1.14->trio~=0.17->selenium) (2.20)\n",
      "Requirement already satisfied: wsproto>=0.14 in c:\\users\\91620\\anaconda3\\lib\\site-packages (from trio-websocket~=0.9->selenium) (1.1.0)\n",
      "Requirement already satisfied: pyOpenSSL>=0.14 in c:\\users\\91620\\anaconda3\\lib\\site-packages (from urllib3[secure,socks]~=1.26->selenium) (21.0.0)\n",
      "Requirement already satisfied: cryptography>=1.3.4 in c:\\users\\91620\\anaconda3\\lib\\site-packages (from urllib3[secure,socks]~=1.26->selenium) (3.4.8)\n",
      "Requirement already satisfied: certifi in c:\\users\\91620\\anaconda3\\lib\\site-packages (from urllib3[secure,socks]~=1.26->selenium) (2021.10.8)\n",
      "Requirement already satisfied: PySocks!=1.5.7,<2.0,>=1.5.6 in c:\\users\\91620\\anaconda3\\lib\\site-packages (from urllib3[secure,socks]~=1.26->selenium) (1.7.1)\n",
      "Requirement already satisfied: six>=1.5.2 in c:\\users\\91620\\anaconda3\\lib\\site-packages (from pyOpenSSL>=0.14->urllib3[secure,socks]~=1.26->selenium) (1.16.0)\n",
      "Requirement already satisfied: h11<1,>=0.9.0 in c:\\users\\91620\\anaconda3\\lib\\site-packages (from wsproto>=0.14->trio-websocket~=0.9->selenium) (0.13.0)\n"
     ]
    }
   ],
   "source": [
    "!pip install selenium"
   ]
  },
  {
   "cell_type": "code",
   "execution_count": 13,
   "id": "8b9e1f52",
   "metadata": {},
   "outputs": [],
   "source": [
    "# Let's now import all the required libraries.\n",
    "import selenium\n",
    "import pandas as pd\n",
    "from selenium import webdriver\n",
    "import warnings\n",
    "warnings.filterwarnings('ignore')\n",
    "import time\n",
    "from selenium.webdriver.common.keys import Keys\n",
    "from selenium.webdriver.common.by import By"
   ]
  },
  {
   "cell_type": "code",
   "execution_count": 14,
   "id": "8d7a67ea",
   "metadata": {},
   "outputs": [],
   "source": [
    "#connect to the web driver\n",
    "driver = webdriver.Chrome(r\"C:\\Users\\91620\\Downloads\\chromedriver_win32\\chromedriver.exe\")"
   ]
  },
  {
   "cell_type": "code",
   "execution_count": 15,
   "id": "b6af460c",
   "metadata": {},
   "outputs": [],
   "source": [
    "url = \"https://www.naukri.com\"\n",
    "driver.get(url)"
   ]
  },
  {
   "cell_type": "code",
   "execution_count": 16,
   "id": "539a7e4e",
   "metadata": {},
   "outputs": [
    {
     "data": {
      "text/plain": [
       "<selenium.webdriver.remote.webelement.WebElement (session=\"b0ed328f9020d3c2c3445c2cd03195ef\", element=\"fc813476-89c6-4531-894d-9a9acbbd4782\")>"
      ]
     },
     "execution_count": 16,
     "metadata": {},
     "output_type": "execute_result"
    }
   ],
   "source": [
    "search_job = driver.find_element(By.CLASS_NAME, \"suggestor-input\")\n",
    "search_job"
   ]
  },
  {
   "cell_type": "code",
   "execution_count": 17,
   "id": "3ee240aa",
   "metadata": {},
   "outputs": [],
   "source": [
    "search_job.send_keys('Data Scientist')"
   ]
  },
  {
   "cell_type": "code",
   "execution_count": 18,
   "id": "e14f1df6",
   "metadata": {},
   "outputs": [],
   "source": [
    "search_field_loc=driver.find_element(By.XPATH,'/html/body/div/div[2]/div[3]/div/div/div[5]/div/div/div/input')\n",
    "search_field_loc.send_keys('delhi')"
   ]
  },
  {
   "cell_type": "code",
   "execution_count": 19,
   "id": "eaaee7b5",
   "metadata": {},
   "outputs": [],
   "source": [
    "#Clicking on search bar button\n",
    "\n",
    "search_button = driver.find_element(By.XPATH,'/html/body/div/div[2]/div[3]/div/div/div[6]')\n",
    "search_button.click()"
   ]
  },
  {
   "cell_type": "code",
   "execution_count": 20,
   "id": "d040f268",
   "metadata": {},
   "outputs": [
    {
     "data": {
      "text/plain": [
       "[<selenium.webdriver.remote.webelement.WebElement (session=\"b0ed328f9020d3c2c3445c2cd03195ef\", element=\"5d96f8f6-f6a7-4490-b8f4-11ff6c118955\")>,\n",
       " <selenium.webdriver.remote.webelement.WebElement (session=\"b0ed328f9020d3c2c3445c2cd03195ef\", element=\"dc09e49a-b11f-442f-8e08-225075ad012b\")>,\n",
       " <selenium.webdriver.remote.webelement.WebElement (session=\"b0ed328f9020d3c2c3445c2cd03195ef\", element=\"b7ad3724-7de2-49ba-9046-331f792611f5\")>,\n",
       " <selenium.webdriver.remote.webelement.WebElement (session=\"b0ed328f9020d3c2c3445c2cd03195ef\", element=\"bb51f922-86b7-43a6-b5e5-024b9bbbf531\")>,\n",
       " <selenium.webdriver.remote.webelement.WebElement (session=\"b0ed328f9020d3c2c3445c2cd03195ef\", element=\"e40167dc-9b1a-4e80-a51d-c9d2e0d86345\")>,\n",
       " <selenium.webdriver.remote.webelement.WebElement (session=\"b0ed328f9020d3c2c3445c2cd03195ef\", element=\"a9fa6251-da9a-4eb0-96ee-65354e18e0bd\")>,\n",
       " <selenium.webdriver.remote.webelement.WebElement (session=\"b0ed328f9020d3c2c3445c2cd03195ef\", element=\"32ba0bc9-856e-4af7-af81-6d921772b466\")>,\n",
       " <selenium.webdriver.remote.webelement.WebElement (session=\"b0ed328f9020d3c2c3445c2cd03195ef\", element=\"a8344144-1227-4c5b-ac21-b968a47193bc\")>,\n",
       " <selenium.webdriver.remote.webelement.WebElement (session=\"b0ed328f9020d3c2c3445c2cd03195ef\", element=\"975379ed-036c-4e56-967c-8df35fa64ead\")>,\n",
       " <selenium.webdriver.remote.webelement.WebElement (session=\"b0ed328f9020d3c2c3445c2cd03195ef\", element=\"aa0b25f8-1406-493c-8e83-6f953d4778ef\")>]"
      ]
     },
     "execution_count": 20,
     "metadata": {},
     "output_type": "execute_result"
    }
   ],
   "source": [
    "#lets extract job title \n",
    "\n",
    "title_tag = driver.find_elements(By.XPATH,\"//a[@class = 'title fw500 ellipsis']\")\n",
    "\n",
    "title_tag[0:10]"
   ]
  },
  {
   "cell_type": "code",
   "execution_count": 21,
   "id": "11a3da65",
   "metadata": {},
   "outputs": [
    {
     "data": {
      "text/plain": [
       "['Analystics & Modeling Specialist',\n",
       " 'Data scientist _Tata Consultancy Services(Tcs)',\n",
       " 'Job||Job Opening For AI Technologist - Data Scientist at Wipro Holmes',\n",
       " 'Hiring For DATA Scientist @ NTT DATA Business Solution India',\n",
       " 'Urgent Job Opening For AI Practitioner - Data Science at Wipro Holmes',\n",
       " 'Data Scientist',\n",
       " 'Forecasting Analyst/ Data Scientist (US Client)',\n",
       " 'Opening_ Data Scientist_ Pelatro Solutions',\n",
       " 'Affine- Hiring For Data Science - Work from Home',\n",
       " 'Senior Data Science Engineer']"
      ]
     },
     "execution_count": 21,
     "metadata": {},
     "output_type": "execute_result"
    }
   ],
   "source": [
    "job_title = []\n",
    "\n",
    "for i in title_tag[0:10]:\n",
    "    job_title.append(i.text)\n",
    "job_title "
   ]
  },
  {
   "cell_type": "code",
   "execution_count": 22,
   "id": "14a50f46",
   "metadata": {},
   "outputs": [
    {
     "data": {
      "text/plain": [
       "[<selenium.webdriver.remote.webelement.WebElement (session=\"b0ed328f9020d3c2c3445c2cd03195ef\", element=\"3da4a698-1a23-4eaf-babc-84ebf6374879\")>,\n",
       " <selenium.webdriver.remote.webelement.WebElement (session=\"b0ed328f9020d3c2c3445c2cd03195ef\", element=\"9c55a354-1701-4859-91e8-219e81740cb3\")>,\n",
       " <selenium.webdriver.remote.webelement.WebElement (session=\"b0ed328f9020d3c2c3445c2cd03195ef\", element=\"b29f4806-6165-4d86-9e6f-6d0ae883e74f\")>,\n",
       " <selenium.webdriver.remote.webelement.WebElement (session=\"b0ed328f9020d3c2c3445c2cd03195ef\", element=\"3ad604a7-60d5-42b0-879e-16cd763063ab\")>,\n",
       " <selenium.webdriver.remote.webelement.WebElement (session=\"b0ed328f9020d3c2c3445c2cd03195ef\", element=\"67273875-90ad-4c15-8b76-47c487ffe84b\")>,\n",
       " <selenium.webdriver.remote.webelement.WebElement (session=\"b0ed328f9020d3c2c3445c2cd03195ef\", element=\"ff356e30-9229-4efc-9f41-3ea218d327f7\")>,\n",
       " <selenium.webdriver.remote.webelement.WebElement (session=\"b0ed328f9020d3c2c3445c2cd03195ef\", element=\"9afabbb7-8312-42e2-ade5-0a990ebc8b82\")>,\n",
       " <selenium.webdriver.remote.webelement.WebElement (session=\"b0ed328f9020d3c2c3445c2cd03195ef\", element=\"0a308332-b941-4493-ad00-9b2fd9ef1718\")>,\n",
       " <selenium.webdriver.remote.webelement.WebElement (session=\"b0ed328f9020d3c2c3445c2cd03195ef\", element=\"aed3f2ef-93f8-4805-a4e2-627940739ede\")>,\n",
       " <selenium.webdriver.remote.webelement.WebElement (session=\"b0ed328f9020d3c2c3445c2cd03195ef\", element=\"d4889acd-6622-4973-aaae-a8c7970a485a\")>]"
      ]
     },
     "execution_count": 22,
     "metadata": {},
     "output_type": "execute_result"
    }
   ],
   "source": [
    "#lets find the company name\n",
    "\n",
    "company_tag = driver.find_elements(By.XPATH,\"//a[@class = 'subTitle ellipsis fleft']\")\n",
    "company_tag[0:10]"
   ]
  },
  {
   "cell_type": "code",
   "execution_count": 23,
   "id": "76cda8ec",
   "metadata": {},
   "outputs": [
    {
     "data": {
      "text/plain": [
       "['Accenture',\n",
       " 'TATA CONSULTANCY SERVICES (TCS)',\n",
       " 'Wipro',\n",
       " 'NTT DATA Business Solutions Private Limited',\n",
       " 'Wipro',\n",
       " 'ZS Associates',\n",
       " 'Concentrix',\n",
       " 'Pelatro Solutions',\n",
       " 'Affine',\n",
       " 'Fractal Analytics']"
      ]
     },
     "execution_count": 23,
     "metadata": {},
     "output_type": "execute_result"
    }
   ],
   "source": [
    "#Now we have extract the text from the tag\n",
    "company_name = []\n",
    "\n",
    "for i in company_tag[0:10]:\n",
    "    company_name.append(i.text)\n",
    "    \n",
    "company_name  "
   ]
  },
  {
   "cell_type": "code",
   "execution_count": 24,
   "id": "6c277047",
   "metadata": {},
   "outputs": [
    {
     "data": {
      "text/plain": [
       "[<selenium.webdriver.remote.webelement.WebElement (session=\"b0ed328f9020d3c2c3445c2cd03195ef\", element=\"c4fd4d46-6f9a-4a33-ad8f-42e18533d3ac\")>,\n",
       " <selenium.webdriver.remote.webelement.WebElement (session=\"b0ed328f9020d3c2c3445c2cd03195ef\", element=\"553a36a5-591d-4275-9456-e27aab6c0ce1\")>,\n",
       " <selenium.webdriver.remote.webelement.WebElement (session=\"b0ed328f9020d3c2c3445c2cd03195ef\", element=\"83580e95-c755-4f8b-8776-cd2c96f4d5bb\")>,\n",
       " <selenium.webdriver.remote.webelement.WebElement (session=\"b0ed328f9020d3c2c3445c2cd03195ef\", element=\"0083ea4e-e707-4e15-b0cf-53edd2082d5b\")>,\n",
       " <selenium.webdriver.remote.webelement.WebElement (session=\"b0ed328f9020d3c2c3445c2cd03195ef\", element=\"29a62080-b3ae-4020-859c-bd5828b4e13f\")>,\n",
       " <selenium.webdriver.remote.webelement.WebElement (session=\"b0ed328f9020d3c2c3445c2cd03195ef\", element=\"78294eb4-4fcb-4262-953a-1ca3ecd3c7cd\")>,\n",
       " <selenium.webdriver.remote.webelement.WebElement (session=\"b0ed328f9020d3c2c3445c2cd03195ef\", element=\"7b6b40a8-15ac-4206-b4ea-4b310bb38caa\")>,\n",
       " <selenium.webdriver.remote.webelement.WebElement (session=\"b0ed328f9020d3c2c3445c2cd03195ef\", element=\"10491603-0aa4-407c-9f66-2c851490f9db\")>,\n",
       " <selenium.webdriver.remote.webelement.WebElement (session=\"b0ed328f9020d3c2c3445c2cd03195ef\", element=\"02706979-487e-4f10-8d26-92848dd88abb\")>,\n",
       " <selenium.webdriver.remote.webelement.WebElement (session=\"b0ed328f9020d3c2c3445c2cd03195ef\", element=\"2f578866-0617-4dc6-87c1-018b1348cb35\")>,\n",
       " <selenium.webdriver.remote.webelement.WebElement (session=\"b0ed328f9020d3c2c3445c2cd03195ef\", element=\"e063651b-88ad-4565-a5b7-834aeffbe6cd\")>,\n",
       " <selenium.webdriver.remote.webelement.WebElement (session=\"b0ed328f9020d3c2c3445c2cd03195ef\", element=\"470d22e0-13f7-4e7d-9b90-d78f09121fe7\")>,\n",
       " <selenium.webdriver.remote.webelement.WebElement (session=\"b0ed328f9020d3c2c3445c2cd03195ef\", element=\"9d7ddc76-f8df-4750-8f49-21d80a0850cf\")>,\n",
       " <selenium.webdriver.remote.webelement.WebElement (session=\"b0ed328f9020d3c2c3445c2cd03195ef\", element=\"29406361-9daa-47a9-be82-3fb4ce3b4f8c\")>,\n",
       " <selenium.webdriver.remote.webelement.WebElement (session=\"b0ed328f9020d3c2c3445c2cd03195ef\", element=\"21e43973-458d-42c6-b7c0-b4ac43471eb1\")>,\n",
       " <selenium.webdriver.remote.webelement.WebElement (session=\"b0ed328f9020d3c2c3445c2cd03195ef\", element=\"3903b742-3238-4041-91f3-3db5f6dd5643\")>,\n",
       " <selenium.webdriver.remote.webelement.WebElement (session=\"b0ed328f9020d3c2c3445c2cd03195ef\", element=\"0bd87e3a-d65b-44f9-80df-a76dc74d5fe0\")>,\n",
       " <selenium.webdriver.remote.webelement.WebElement (session=\"b0ed328f9020d3c2c3445c2cd03195ef\", element=\"522b04ee-1f25-4143-9ba6-8d2644f62fde\")>,\n",
       " <selenium.webdriver.remote.webelement.WebElement (session=\"b0ed328f9020d3c2c3445c2cd03195ef\", element=\"16277c6d-41e4-4c84-b513-518b85a057dd\")>,\n",
       " <selenium.webdriver.remote.webelement.WebElement (session=\"b0ed328f9020d3c2c3445c2cd03195ef\", element=\"71515ef5-ec6c-4a75-be8c-24925b528501\")>]"
      ]
     },
     "execution_count": 24,
     "metadata": {},
     "output_type": "execute_result"
    }
   ],
   "source": [
    "#lets extract years for the experience_tag\n",
    "\n",
    "experience_tag = driver.find_elements(By.XPATH,\"//li[@class='fleft grey-text br2 placeHolderLi experience']/span\")\n",
    "experience_tag"
   ]
  },
  {
   "cell_type": "code",
   "execution_count": 25,
   "id": "159465a9",
   "metadata": {},
   "outputs": [
    {
     "data": {
      "text/plain": [
       "['6-8 Yrs',\n",
       " '9-14 Yrs',\n",
       " '5-10 Yrs',\n",
       " '4-9 Yrs',\n",
       " '11-20 Yrs',\n",
       " '5-8 Yrs',\n",
       " '3-8 Yrs',\n",
       " '8-12 Yrs',\n",
       " '4-7 Yrs',\n",
       " '5-9 Yrs']"
      ]
     },
     "execution_count": 25,
     "metadata": {},
     "output_type": "execute_result"
    }
   ],
   "source": [
    "#let extract text from tags\n",
    "experience_required = []\n",
    "\n",
    "for i in experience_tag[0:10]:\n",
    "    experience_required.append(i.text[0:10])\n",
    "experience_required  "
   ]
  },
  {
   "cell_type": "code",
   "execution_count": 26,
   "id": "aa8884f5",
   "metadata": {},
   "outputs": [
    {
     "data": {
      "text/plain": [
       "[<selenium.webdriver.remote.webelement.WebElement (session=\"b0ed328f9020d3c2c3445c2cd03195ef\", element=\"b8d99b5f-6644-476e-b573-fea5ffe28aea\")>,\n",
       " <selenium.webdriver.remote.webelement.WebElement (session=\"b0ed328f9020d3c2c3445c2cd03195ef\", element=\"88c7219f-be53-4144-b7fc-b32beb799e2a\")>,\n",
       " <selenium.webdriver.remote.webelement.WebElement (session=\"b0ed328f9020d3c2c3445c2cd03195ef\", element=\"558eeb88-5f60-4420-b452-9e8393716046\")>,\n",
       " <selenium.webdriver.remote.webelement.WebElement (session=\"b0ed328f9020d3c2c3445c2cd03195ef\", element=\"97142a14-77f6-467c-aa14-0f129de8dddd\")>,\n",
       " <selenium.webdriver.remote.webelement.WebElement (session=\"b0ed328f9020d3c2c3445c2cd03195ef\", element=\"9c7c6c57-c57c-441e-bdce-ac2ada243656\")>,\n",
       " <selenium.webdriver.remote.webelement.WebElement (session=\"b0ed328f9020d3c2c3445c2cd03195ef\", element=\"315bcedb-8633-4061-b6b8-f6c209e921a4\")>,\n",
       " <selenium.webdriver.remote.webelement.WebElement (session=\"b0ed328f9020d3c2c3445c2cd03195ef\", element=\"8a857871-1b27-4f26-aa9f-cf72a490e85d\")>,\n",
       " <selenium.webdriver.remote.webelement.WebElement (session=\"b0ed328f9020d3c2c3445c2cd03195ef\", element=\"4b20494b-5178-4e12-8d2a-c01a3e0f89c5\")>,\n",
       " <selenium.webdriver.remote.webelement.WebElement (session=\"b0ed328f9020d3c2c3445c2cd03195ef\", element=\"d840edaf-3820-4ced-84ec-90dfd76d898a\")>,\n",
       " <selenium.webdriver.remote.webelement.WebElement (session=\"b0ed328f9020d3c2c3445c2cd03195ef\", element=\"9008480f-0529-4d2a-96e6-910c6bfe056f\")>]"
      ]
     },
     "execution_count": 26,
     "metadata": {},
     "output_type": "execute_result"
    }
   ],
   "source": [
    "#lets extract the job location tag\n",
    "\n",
    "location_tag = driver.find_elements(By.XPATH,\"//li[@class='fleft grey-text br2 placeHolderLi location']\")\n",
    "\n",
    "location_tag[0:10]"
   ]
  },
  {
   "cell_type": "code",
   "execution_count": 27,
   "id": "e36620d1",
   "metadata": {},
   "outputs": [
    {
     "data": {
      "text/plain": [
       "['Kolkata, Mumbai, Hyderabad/Secunderabad, Pune, Chennai, Bangalore/Bengaluru, delhi ncr',\n",
       " 'New Delhi, Kochi/Cochin, Indore, Hyderabad/Secunderabad, Pune, Chennai, Bangalore/Bengaluru, Delhi / NCR, Mumbai (All Areas)',\n",
       " 'New Delhi, Hyderabad/Secunderabad, Pune, Chennai, Bangalore/Bengaluru, Coimbatore, Cochin, Mumbai',\n",
       " 'Noida, Hyderabad/Secunderabad, Pune, Gurgaon/Gurugram, Chennai, Bangalore/Bengaluru, Mumbai (All Areas)',\n",
       " 'New Delhi, Kochi/Cochin, Bangalore/Bengaluru, Coimbatore, Chennai, Pune, Mumbai, Hyderabad',\n",
       " 'New Delhi, Pune, Gurgaon/Gurugram, Bangalore/Bengaluru, Delhi / NCR',\n",
       " 'Gurgaon/Gurugram, Bangalore/Bengaluru\\n(WFH during Covid)',\n",
       " 'Delhi / NCR, Kolkata, Hyderabad/Secunderabad, Pune, Ahmedabad, Chennai, Bangalore/Bengaluru, Mumbai (All Areas)',\n",
       " 'Delhi / NCR, Kolkata, Hyderabad/Secunderabad, Pune, Ahmedabad, Chennai, Bangalore/Bengaluru, Mumbai (All Areas)',\n",
       " 'Gurgaon/Gurugram, Bangalore/Bengaluru, Mumbai (All Areas)']"
      ]
     },
     "execution_count": 27,
     "metadata": {},
     "output_type": "execute_result"
    }
   ],
   "source": [
    "job_location = []\n",
    "\n",
    "for i in location_tag[0:10]:\n",
    "    job_location.append(i.text)    \n",
    "    \n",
    "job_location  "
   ]
  },
  {
   "cell_type": "code",
   "execution_count": 28,
   "id": "9d570108",
   "metadata": {},
   "outputs": [
    {
     "name": "stdout",
     "output_type": "stream",
     "text": [
      "10 10 10 10\n"
     ]
    }
   ],
   "source": [
    "print(len(job_title),len(company_name),len(experience_required),len(job_location))"
   ]
  },
  {
   "cell_type": "code",
   "execution_count": 29,
   "id": "1f4e649a",
   "metadata": {},
   "outputs": [
    {
     "data": {
      "text/html": [
       "<div>\n",
       "<style scoped>\n",
       "    .dataframe tbody tr th:only-of-type {\n",
       "        vertical-align: middle;\n",
       "    }\n",
       "\n",
       "    .dataframe tbody tr th {\n",
       "        vertical-align: top;\n",
       "    }\n",
       "\n",
       "    .dataframe thead th {\n",
       "        text-align: right;\n",
       "    }\n",
       "</style>\n",
       "<table border=\"1\" class=\"dataframe\">\n",
       "  <thead>\n",
       "    <tr style=\"text-align: right;\">\n",
       "      <th></th>\n",
       "      <th>job_title</th>\n",
       "      <th>company_name</th>\n",
       "      <th>experience_required</th>\n",
       "      <th>job_location</th>\n",
       "    </tr>\n",
       "  </thead>\n",
       "  <tbody>\n",
       "    <tr>\n",
       "      <th>0</th>\n",
       "      <td>Analystics &amp; Modeling Specialist</td>\n",
       "      <td>Accenture</td>\n",
       "      <td>6-8 Yrs</td>\n",
       "      <td>Kolkata, Mumbai, Hyderabad/Secunderabad, Pune,...</td>\n",
       "    </tr>\n",
       "    <tr>\n",
       "      <th>1</th>\n",
       "      <td>Data scientist _Tata Consultancy Services(Tcs)</td>\n",
       "      <td>TATA CONSULTANCY SERVICES (TCS)</td>\n",
       "      <td>9-14 Yrs</td>\n",
       "      <td>New Delhi, Kochi/Cochin, Indore, Hyderabad/Sec...</td>\n",
       "    </tr>\n",
       "    <tr>\n",
       "      <th>2</th>\n",
       "      <td>Job||Job Opening For AI Technologist - Data Sc...</td>\n",
       "      <td>Wipro</td>\n",
       "      <td>5-10 Yrs</td>\n",
       "      <td>New Delhi, Hyderabad/Secunderabad, Pune, Chenn...</td>\n",
       "    </tr>\n",
       "    <tr>\n",
       "      <th>3</th>\n",
       "      <td>Hiring For DATA Scientist @ NTT DATA Business ...</td>\n",
       "      <td>NTT DATA Business Solutions Private Limited</td>\n",
       "      <td>4-9 Yrs</td>\n",
       "      <td>Noida, Hyderabad/Secunderabad, Pune, Gurgaon/G...</td>\n",
       "    </tr>\n",
       "    <tr>\n",
       "      <th>4</th>\n",
       "      <td>Urgent Job Opening For AI Practitioner - Data ...</td>\n",
       "      <td>Wipro</td>\n",
       "      <td>11-20 Yrs</td>\n",
       "      <td>New Delhi, Kochi/Cochin, Bangalore/Bengaluru, ...</td>\n",
       "    </tr>\n",
       "    <tr>\n",
       "      <th>5</th>\n",
       "      <td>Data Scientist</td>\n",
       "      <td>ZS Associates</td>\n",
       "      <td>5-8 Yrs</td>\n",
       "      <td>New Delhi, Pune, Gurgaon/Gurugram, Bangalore/B...</td>\n",
       "    </tr>\n",
       "    <tr>\n",
       "      <th>6</th>\n",
       "      <td>Forecasting Analyst/ Data Scientist (US Client)</td>\n",
       "      <td>Concentrix</td>\n",
       "      <td>3-8 Yrs</td>\n",
       "      <td>Gurgaon/Gurugram, Bangalore/Bengaluru\\n(WFH du...</td>\n",
       "    </tr>\n",
       "    <tr>\n",
       "      <th>7</th>\n",
       "      <td>Opening_ Data Scientist_ Pelatro Solutions</td>\n",
       "      <td>Pelatro Solutions</td>\n",
       "      <td>8-12 Yrs</td>\n",
       "      <td>Delhi / NCR, Kolkata, Hyderabad/Secunderabad, ...</td>\n",
       "    </tr>\n",
       "    <tr>\n",
       "      <th>8</th>\n",
       "      <td>Affine- Hiring For Data Science - Work from Home</td>\n",
       "      <td>Affine</td>\n",
       "      <td>4-7 Yrs</td>\n",
       "      <td>Delhi / NCR, Kolkata, Hyderabad/Secunderabad, ...</td>\n",
       "    </tr>\n",
       "    <tr>\n",
       "      <th>9</th>\n",
       "      <td>Senior Data Science Engineer</td>\n",
       "      <td>Fractal Analytics</td>\n",
       "      <td>5-9 Yrs</td>\n",
       "      <td>Gurgaon/Gurugram, Bangalore/Bengaluru, Mumbai ...</td>\n",
       "    </tr>\n",
       "  </tbody>\n",
       "</table>\n",
       "</div>"
      ],
      "text/plain": [
       "                                           job_title  \\\n",
       "0                   Analystics & Modeling Specialist   \n",
       "1     Data scientist _Tata Consultancy Services(Tcs)   \n",
       "2  Job||Job Opening For AI Technologist - Data Sc...   \n",
       "3  Hiring For DATA Scientist @ NTT DATA Business ...   \n",
       "4  Urgent Job Opening For AI Practitioner - Data ...   \n",
       "5                                     Data Scientist   \n",
       "6    Forecasting Analyst/ Data Scientist (US Client)   \n",
       "7         Opening_ Data Scientist_ Pelatro Solutions   \n",
       "8   Affine- Hiring For Data Science - Work from Home   \n",
       "9                       Senior Data Science Engineer   \n",
       "\n",
       "                                  company_name experience_required  \\\n",
       "0                                    Accenture             6-8 Yrs   \n",
       "1              TATA CONSULTANCY SERVICES (TCS)            9-14 Yrs   \n",
       "2                                        Wipro            5-10 Yrs   \n",
       "3  NTT DATA Business Solutions Private Limited             4-9 Yrs   \n",
       "4                                        Wipro           11-20 Yrs   \n",
       "5                                ZS Associates             5-8 Yrs   \n",
       "6                                   Concentrix             3-8 Yrs   \n",
       "7                            Pelatro Solutions            8-12 Yrs   \n",
       "8                                       Affine             4-7 Yrs   \n",
       "9                            Fractal Analytics             5-9 Yrs   \n",
       "\n",
       "                                        job_location  \n",
       "0  Kolkata, Mumbai, Hyderabad/Secunderabad, Pune,...  \n",
       "1  New Delhi, Kochi/Cochin, Indore, Hyderabad/Sec...  \n",
       "2  New Delhi, Hyderabad/Secunderabad, Pune, Chenn...  \n",
       "3  Noida, Hyderabad/Secunderabad, Pune, Gurgaon/G...  \n",
       "4  New Delhi, Kochi/Cochin, Bangalore/Bengaluru, ...  \n",
       "5  New Delhi, Pune, Gurgaon/Gurugram, Bangalore/B...  \n",
       "6  Gurgaon/Gurugram, Bangalore/Bengaluru\\n(WFH du...  \n",
       "7  Delhi / NCR, Kolkata, Hyderabad/Secunderabad, ...  \n",
       "8  Delhi / NCR, Kolkata, Hyderabad/Secunderabad, ...  \n",
       "9  Gurgaon/Gurugram, Bangalore/Bengaluru, Mumbai ...  "
      ]
     },
     "execution_count": 29,
     "metadata": {},
     "output_type": "execute_result"
    }
   ],
   "source": [
    "df = pd.DataFrame({'job_title':job_title,'company_name':company_name,'experience_required':experience_required,'job_location':job_location})\n",
    "df"
   ]
  },
  {
   "cell_type": "code",
   "execution_count": null,
   "id": "b0f5d798",
   "metadata": {},
   "outputs": [],
   "source": []
  }
 ],
 "metadata": {
  "kernelspec": {
   "display_name": "Python 3 (ipykernel)",
   "language": "python",
   "name": "python3"
  },
  "language_info": {
   "codemirror_mode": {
    "name": "ipython",
    "version": 3
   },
   "file_extension": ".py",
   "mimetype": "text/x-python",
   "name": "python",
   "nbconvert_exporter": "python",
   "pygments_lexer": "ipython3",
   "version": "3.9.7"
  }
 },
 "nbformat": 4,
 "nbformat_minor": 5
}
